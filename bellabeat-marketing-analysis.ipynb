{
 "cells": [
  {
   "cell_type": "markdown",
   "id": "3d020dd0",
   "metadata": {
    "papermill": {
     "duration": 0.015552,
     "end_time": "2024-03-15T18:54:33.753970",
     "exception": false,
     "start_time": "2024-03-15T18:54:33.738418",
     "status": "completed"
    },
    "tags": []
   },
   "source": [
    "# How Does a Bike-Share Navigate Speedy Success?\n",
    "\n",
    "Bellabeat, a successful enterprise specializing in cutting-edge health-oriented products designed for women, is committed to expanding its presence in the global smart device market. Urška Sršen, the Co-founder and Chief Creative Officer, envisions leveraging fitness data from various smart devices to open new avenues for Bellabeat's growth. In line with this vision, the marketing analytics team has been assigned the task of scrutinizing usage data of smart devices to gain valuable insights into the current utilization of these advanced technologies."
   ]
  },
  {
   "cell_type": "markdown",
   "id": "eab89148",
   "metadata": {
    "execution": {
     "iopub.execute_input": "2024-03-07T17:26:12.109231Z",
     "iopub.status.busy": "2024-03-07T17:26:12.105613Z",
     "iopub.status.idle": "2024-03-07T17:26:12.278248Z"
    },
    "papermill": {
     "duration": 0.013731,
     "end_time": "2024-03-15T18:54:33.781448",
     "exception": false,
     "start_time": "2024-03-15T18:54:33.767717",
     "status": "completed"
    },
    "tags": []
   },
   "source": [
    "# Framework\n",
    "\n",
    "\n",
    "### Stakeholders\n",
    "\n",
    "* Urška Sršen, Co-founder and Chief Creative Officer of Bellabeat\n",
    "* Sando Mur, Mathematician and Co-founder of Bellabeat\n",
    "* Bellabeat marketing analytics team\n",
    "* Bellabeat executive team\n",
    "\n",
    "### Objective\n",
    "\n",
    "Uncover growth opportunities for Bellabeat in the global smart device market through a comprehensive analysis of smart device usage data and prevailing consumer behavior patterns. The aim is to gain insights into consumer behavior and usage patterns, informing marketing strategy and propelling business expansion.\n",
    "\n",
    "### Tasks\n",
    "\n",
    "Analyze smart device usage data for Fitbit.\n",
    "Identify patterns and trends in customer behavior based on the usage data.\n",
    "Present findings to the Bellabeat executive team.\n",
    "Provide high-level recommendations for marketing strategies based on the discovered insights.\n",
    "\n",
    "### Questions for this Analysis\n",
    "\n",
    "* How do annual members and casual riders use Cyclistic bikes differently?\n",
    "* Why would casual riders buy Cyclistic annual memberships?\n",
    "* How can Cyclistic use digital media to influence casual riders to become members?"
   ]
  },
  {
   "cell_type": "markdown",
   "id": "2106baa7",
   "metadata": {
    "papermill": {
     "duration": 0.013581,
     "end_time": "2024-03-15T18:54:33.808701",
     "exception": false,
     "start_time": "2024-03-15T18:54:33.795120",
     "status": "completed"
    },
    "tags": []
   },
   "source": [
    "# FitBit Fitness Tracker Metadata\n",
    "\n",
    "### Dataset\n",
    "\n",
    "The data used for this analysis comprises FitBit Fitness Tracker Data, available on Kaggle via Mobius. The dataset was collected through a distributed survey conducted on Amazon Mechanical Turk from December 3 to December 5, 2016. This survey involved participants providing primary data related to their fitness activities, contributing to the comprehensive dataset used in this study.\n",
    "\n",
    "### Accessibility and Privacy\n",
    "\n",
    "The data is licensed under CC0: Public Domain, relinquishing all rights globally under copyright law. Users are free to copy, modify, distribute, and perform the work, even for commercial purposes, without seeking permission.\n",
    "\n",
    "### Organization and Verification\n",
    "\n",
    "Comprising 18 files (15 in long format, 3 in wide format), the dataset encompasses diverse metrics such as activity, calories, sleep records, METs, heart rate, and steps. The information is organized in timeframes ranging from seconds to days.\n",
    "\n",
    "### Limitations of the Data\n",
    "\n",
    "Several limitations should be considered, potentially impacting the analysis results:\n",
    "\n",
    "* Limited demographic information and user characteristics.\n",
    "* Small sample size\n",
    "* Lack of long-term trends or changes in user behavior"
   ]
  },
  {
   "cell_type": "markdown",
   "id": "731928bf",
   "metadata": {
    "papermill": {
     "duration": 0.013884,
     "end_time": "2024-03-15T18:54:33.836792",
     "exception": false,
     "start_time": "2024-03-15T18:54:33.822908",
     "status": "completed"
    },
    "tags": []
   },
   "source": [
    "# Loading R Libraries"
   ]
  },
  {
   "cell_type": "code",
   "execution_count": 1,
   "id": "f27c68cd",
   "metadata": {
    "execution": {
     "iopub.execute_input": "2024-03-15T18:54:33.870190Z",
     "iopub.status.busy": "2024-03-15T18:54:33.867750Z",
     "iopub.status.idle": "2024-03-15T18:54:35.320989Z",
     "shell.execute_reply": "2024-03-15T18:54:35.318727Z"
    },
    "papermill": {
     "duration": 1.473753,
     "end_time": "2024-03-15T18:54:35.324127",
     "exception": false,
     "start_time": "2024-03-15T18:54:33.850374",
     "status": "completed"
    },
    "tags": []
   },
   "outputs": [
    {
     "name": "stderr",
     "output_type": "stream",
     "text": [
      "── \u001b[1mAttaching core tidyverse packages\u001b[22m ──────────────────────── tidyverse 2.0.0 ──\n",
      "\u001b[32m✔\u001b[39m \u001b[34mdplyr    \u001b[39m 1.1.4     \u001b[32m✔\u001b[39m \u001b[34mreadr    \u001b[39m 2.1.4\n",
      "\u001b[32m✔\u001b[39m \u001b[34mforcats  \u001b[39m 1.0.0     \u001b[32m✔\u001b[39m \u001b[34mstringr  \u001b[39m 1.5.1\n",
      "\u001b[32m✔\u001b[39m \u001b[34mggplot2  \u001b[39m 3.4.4     \u001b[32m✔\u001b[39m \u001b[34mtibble   \u001b[39m 3.2.1\n",
      "\u001b[32m✔\u001b[39m \u001b[34mlubridate\u001b[39m 1.9.3     \u001b[32m✔\u001b[39m \u001b[34mtidyr    \u001b[39m 1.3.0\n",
      "\u001b[32m✔\u001b[39m \u001b[34mpurrr    \u001b[39m 1.0.2     \n",
      "── \u001b[1mConflicts\u001b[22m ────────────────────────────────────────── tidyverse_conflicts() ──\n",
      "\u001b[31m✖\u001b[39m \u001b[34mdplyr\u001b[39m::\u001b[32mfilter()\u001b[39m masks \u001b[34mstats\u001b[39m::filter()\n",
      "\u001b[31m✖\u001b[39m \u001b[34mdplyr\u001b[39m::\u001b[32mlag()\u001b[39m    masks \u001b[34mstats\u001b[39m::lag()\n",
      "\u001b[36mℹ\u001b[39m Use the conflicted package (\u001b[3m\u001b[34m<http://conflicted.r-lib.org/>\u001b[39m\u001b[23m) to force all conflicts to become errors\n",
      "\n",
      "Attaching package: ‘scales’\n",
      "\n",
      "\n",
      "The following object is masked from ‘package:purrr’:\n",
      "\n",
      "    discard\n",
      "\n",
      "\n",
      "The following object is masked from ‘package:readr’:\n",
      "\n",
      "    col_factor\n",
      "\n",
      "\n"
     ]
    }
   ],
   "source": [
    "library(tidyverse)\n",
    "library(scales)\n",
    "library(lubridate)\n",
    "library(dplyr)"
   ]
  },
  {
   "cell_type": "markdown",
   "id": "3cdb71b0",
   "metadata": {
    "papermill": {
     "duration": 0.014254,
     "end_time": "2024-03-15T18:54:35.357497",
     "exception": false,
     "start_time": "2024-03-15T18:54:35.343243",
     "status": "completed"
    },
    "tags": []
   },
   "source": [
    "# Importing Dataset "
   ]
  },
  {
   "cell_type": "code",
   "execution_count": 2,
   "id": "badcaba7",
   "metadata": {
    "execution": {
     "iopub.execute_input": "2024-03-15T18:54:35.445629Z",
     "iopub.status.busy": "2024-03-15T18:54:35.398222Z",
     "iopub.status.idle": "2024-03-15T18:54:35.807819Z",
     "shell.execute_reply": "2024-03-15T18:54:35.805305Z"
    },
    "papermill": {
     "duration": 0.430399,
     "end_time": "2024-03-15T18:54:35.810933",
     "exception": false,
     "start_time": "2024-03-15T18:54:35.380534",
     "status": "completed"
    },
    "tags": []
   },
   "outputs": [
    {
     "name": "stderr",
     "output_type": "stream",
     "text": [
      "\u001b[1mRows: \u001b[22m\u001b[34m940\u001b[39m \u001b[1mColumns: \u001b[22m\u001b[34m15\u001b[39m\n",
      "\u001b[36m──\u001b[39m \u001b[1mColumn specification\u001b[22m \u001b[36m────────────────────────────────────────────────────────\u001b[39m\n",
      "\u001b[1mDelimiter:\u001b[22m \",\"\n",
      "\u001b[31mchr\u001b[39m  (1): ActivityDate\n",
      "\u001b[32mdbl\u001b[39m (14): Id, TotalSteps, TotalDistance, TrackerDistance, LoggedActivitiesDi...\n",
      "\n",
      "\u001b[36mℹ\u001b[39m Use `spec()` to retrieve the full column specification for this data.\n",
      "\u001b[36mℹ\u001b[39m Specify the column types or set `show_col_types = FALSE` to quiet this message.\n"
     ]
    }
   ],
   "source": [
    "daily_activity <- read_csv(\"/kaggle/input/fitbit/mturkfitbit_export_4.12.16-5.12.16/Fitabase Data 4.12.16-5.12.16/dailyActivity_merged.csv\")"
   ]
  },
  {
   "cell_type": "markdown",
   "id": "7478cfd1",
   "metadata": {
    "papermill": {
     "duration": 0.017538,
     "end_time": "2024-03-15T18:54:35.846178",
     "exception": false,
     "start_time": "2024-03-15T18:54:35.828640",
     "status": "completed"
    },
    "tags": []
   },
   "source": [
    "# Exploring Dataset"
   ]
  },
  {
   "cell_type": "code",
   "execution_count": 3,
   "id": "ffba23a0",
   "metadata": {
    "execution": {
     "iopub.execute_input": "2024-03-15T18:54:35.879528Z",
     "iopub.status.busy": "2024-03-15T18:54:35.877679Z",
     "iopub.status.idle": "2024-03-15T18:54:35.901834Z",
     "shell.execute_reply": "2024-03-15T18:54:35.899595Z"
    },
    "papermill": {
     "duration": 0.044121,
     "end_time": "2024-03-15T18:54:35.904836",
     "exception": false,
     "start_time": "2024-03-15T18:54:35.860715",
     "status": "completed"
    },
    "tags": []
   },
   "outputs": [
    {
     "data": {
      "text/html": [
       "<style>\n",
       ".list-inline {list-style: none; margin:0; padding: 0}\n",
       ".list-inline>li {display: inline-block}\n",
       ".list-inline>li:not(:last-child)::after {content: \"\\00b7\"; padding: 0 .5ex}\n",
       "</style>\n",
       "<ol class=list-inline><li>940</li><li>15</li></ol>\n"
      ],
      "text/latex": [
       "\\begin{enumerate*}\n",
       "\\item 940\n",
       "\\item 15\n",
       "\\end{enumerate*}\n"
      ],
      "text/markdown": [
       "1. 940\n",
       "2. 15\n",
       "\n",
       "\n"
      ],
      "text/plain": [
       "[1] 940  15"
      ]
     },
     "metadata": {},
     "output_type": "display_data"
    }
   ],
   "source": [
    "# Using dim() function to see the dimensions of the data frame\n",
    "dim(daily_activity)"
   ]
  },
  {
   "cell_type": "markdown",
   "id": "4b4d8421",
   "metadata": {
    "papermill": {
     "duration": 0.014808,
     "end_time": "2024-03-15T18:54:35.934508",
     "exception": false,
     "start_time": "2024-03-15T18:54:35.919700",
     "status": "completed"
    },
    "tags": []
   },
   "source": [
    "We can see that the dataset has 940 rows and columns."
   ]
  },
  {
   "cell_type": "code",
   "execution_count": 4,
   "id": "8bf1fa87",
   "metadata": {
    "execution": {
     "iopub.execute_input": "2024-03-15T18:54:35.968576Z",
     "iopub.status.busy": "2024-03-15T18:54:35.966759Z",
     "iopub.status.idle": "2024-03-15T18:54:35.987442Z",
     "shell.execute_reply": "2024-03-15T18:54:35.985398Z"
    },
    "papermill": {
     "duration": 0.040777,
     "end_time": "2024-03-15T18:54:35.990420",
     "exception": false,
     "start_time": "2024-03-15T18:54:35.949643",
     "status": "completed"
    },
    "tags": []
   },
   "outputs": [
    {
     "data": {
      "text/html": [
       "<style>\n",
       ".list-inline {list-style: none; margin:0; padding: 0}\n",
       ".list-inline>li {display: inline-block}\n",
       ".list-inline>li:not(:last-child)::after {content: \"\\00b7\"; padding: 0 .5ex}\n",
       "</style>\n",
       "<ol class=list-inline><li>'Id'</li><li>'ActivityDate'</li><li>'TotalSteps'</li><li>'TotalDistance'</li><li>'TrackerDistance'</li><li>'LoggedActivitiesDistance'</li><li>'VeryActiveDistance'</li><li>'ModeratelyActiveDistance'</li><li>'LightActiveDistance'</li><li>'SedentaryActiveDistance'</li><li>'VeryActiveMinutes'</li><li>'FairlyActiveMinutes'</li><li>'LightlyActiveMinutes'</li><li>'SedentaryMinutes'</li><li>'Calories'</li></ol>\n"
      ],
      "text/latex": [
       "\\begin{enumerate*}\n",
       "\\item 'Id'\n",
       "\\item 'ActivityDate'\n",
       "\\item 'TotalSteps'\n",
       "\\item 'TotalDistance'\n",
       "\\item 'TrackerDistance'\n",
       "\\item 'LoggedActivitiesDistance'\n",
       "\\item 'VeryActiveDistance'\n",
       "\\item 'ModeratelyActiveDistance'\n",
       "\\item 'LightActiveDistance'\n",
       "\\item 'SedentaryActiveDistance'\n",
       "\\item 'VeryActiveMinutes'\n",
       "\\item 'FairlyActiveMinutes'\n",
       "\\item 'LightlyActiveMinutes'\n",
       "\\item 'SedentaryMinutes'\n",
       "\\item 'Calories'\n",
       "\\end{enumerate*}\n"
      ],
      "text/markdown": [
       "1. 'Id'\n",
       "2. 'ActivityDate'\n",
       "3. 'TotalSteps'\n",
       "4. 'TotalDistance'\n",
       "5. 'TrackerDistance'\n",
       "6. 'LoggedActivitiesDistance'\n",
       "7. 'VeryActiveDistance'\n",
       "8. 'ModeratelyActiveDistance'\n",
       "9. 'LightActiveDistance'\n",
       "10. 'SedentaryActiveDistance'\n",
       "11. 'VeryActiveMinutes'\n",
       "12. 'FairlyActiveMinutes'\n",
       "13. 'LightlyActiveMinutes'\n",
       "14. 'SedentaryMinutes'\n",
       "15. 'Calories'\n",
       "\n",
       "\n"
      ],
      "text/plain": [
       " [1] \"Id\"                       \"ActivityDate\"            \n",
       " [3] \"TotalSteps\"               \"TotalDistance\"           \n",
       " [5] \"TrackerDistance\"          \"LoggedActivitiesDistance\"\n",
       " [7] \"VeryActiveDistance\"       \"ModeratelyActiveDistance\"\n",
       " [9] \"LightActiveDistance\"      \"SedentaryActiveDistance\" \n",
       "[11] \"VeryActiveMinutes\"        \"FairlyActiveMinutes\"     \n",
       "[13] \"LightlyActiveMinutes\"     \"SedentaryMinutes\"        \n",
       "[15] \"Calories\"                "
      ]
     },
     "metadata": {},
     "output_type": "display_data"
    }
   ],
   "source": [
    "# Now lets use the conlnames() function to see the column names\n",
    "colnames(daily_activity)"
   ]
  },
  {
   "cell_type": "markdown",
   "id": "bfddd310",
   "metadata": {
    "papermill": {
     "duration": 0.015127,
     "end_time": "2024-03-15T18:54:36.020720",
     "exception": false,
     "start_time": "2024-03-15T18:54:36.005593",
     "status": "completed"
    },
    "tags": []
   },
   "source": [
    "So, the columns contain information about the intensity and duration of various physical activities, distances covered, and caloric expenditure."
   ]
  },
  {
   "cell_type": "code",
   "execution_count": 5,
   "id": "f35d815f",
   "metadata": {
    "execution": {
     "iopub.execute_input": "2024-03-15T18:54:36.055217Z",
     "iopub.status.busy": "2024-03-15T18:54:36.053341Z",
     "iopub.status.idle": "2024-03-15T18:54:36.136260Z",
     "shell.execute_reply": "2024-03-15T18:54:36.134191Z"
    },
    "papermill": {
     "duration": 0.10344,
     "end_time": "2024-03-15T18:54:36.139231",
     "exception": false,
     "start_time": "2024-03-15T18:54:36.035791",
     "status": "completed"
    },
    "tags": []
   },
   "outputs": [
    {
     "data": {
      "text/html": [
       "<table class=\"dataframe\">\n",
       "<caption>A tibble: 6 × 15</caption>\n",
       "<thead>\n",
       "\t<tr><th scope=col>Id</th><th scope=col>ActivityDate</th><th scope=col>TotalSteps</th><th scope=col>TotalDistance</th><th scope=col>TrackerDistance</th><th scope=col>LoggedActivitiesDistance</th><th scope=col>VeryActiveDistance</th><th scope=col>ModeratelyActiveDistance</th><th scope=col>LightActiveDistance</th><th scope=col>SedentaryActiveDistance</th><th scope=col>VeryActiveMinutes</th><th scope=col>FairlyActiveMinutes</th><th scope=col>LightlyActiveMinutes</th><th scope=col>SedentaryMinutes</th><th scope=col>Calories</th></tr>\n",
       "\t<tr><th scope=col>&lt;dbl&gt;</th><th scope=col>&lt;chr&gt;</th><th scope=col>&lt;dbl&gt;</th><th scope=col>&lt;dbl&gt;</th><th scope=col>&lt;dbl&gt;</th><th scope=col>&lt;dbl&gt;</th><th scope=col>&lt;dbl&gt;</th><th scope=col>&lt;dbl&gt;</th><th scope=col>&lt;dbl&gt;</th><th scope=col>&lt;dbl&gt;</th><th scope=col>&lt;dbl&gt;</th><th scope=col>&lt;dbl&gt;</th><th scope=col>&lt;dbl&gt;</th><th scope=col>&lt;dbl&gt;</th><th scope=col>&lt;dbl&gt;</th></tr>\n",
       "</thead>\n",
       "<tbody>\n",
       "\t<tr><td>1503960366</td><td>4/12/2016</td><td>13162</td><td>8.50</td><td>8.50</td><td>0</td><td>1.88</td><td>0.55</td><td>6.06</td><td>0</td><td>25</td><td>13</td><td>328</td><td> 728</td><td>1985</td></tr>\n",
       "\t<tr><td>1503960366</td><td>4/13/2016</td><td>10735</td><td>6.97</td><td>6.97</td><td>0</td><td>1.57</td><td>0.69</td><td>4.71</td><td>0</td><td>21</td><td>19</td><td>217</td><td> 776</td><td>1797</td></tr>\n",
       "\t<tr><td>1503960366</td><td>4/14/2016</td><td>10460</td><td>6.74</td><td>6.74</td><td>0</td><td>2.44</td><td>0.40</td><td>3.91</td><td>0</td><td>30</td><td>11</td><td>181</td><td>1218</td><td>1776</td></tr>\n",
       "\t<tr><td>1503960366</td><td>4/15/2016</td><td> 9762</td><td>6.28</td><td>6.28</td><td>0</td><td>2.14</td><td>1.26</td><td>2.83</td><td>0</td><td>29</td><td>34</td><td>209</td><td> 726</td><td>1745</td></tr>\n",
       "\t<tr><td>1503960366</td><td>4/16/2016</td><td>12669</td><td>8.16</td><td>8.16</td><td>0</td><td>2.71</td><td>0.41</td><td>5.04</td><td>0</td><td>36</td><td>10</td><td>221</td><td> 773</td><td>1863</td></tr>\n",
       "\t<tr><td>1503960366</td><td>4/17/2016</td><td> 9705</td><td>6.48</td><td>6.48</td><td>0</td><td>3.19</td><td>0.78</td><td>2.51</td><td>0</td><td>38</td><td>20</td><td>164</td><td> 539</td><td>1728</td></tr>\n",
       "</tbody>\n",
       "</table>\n"
      ],
      "text/latex": [
       "A tibble: 6 × 15\n",
       "\\begin{tabular}{lllllllllllllll}\n",
       " Id & ActivityDate & TotalSteps & TotalDistance & TrackerDistance & LoggedActivitiesDistance & VeryActiveDistance & ModeratelyActiveDistance & LightActiveDistance & SedentaryActiveDistance & VeryActiveMinutes & FairlyActiveMinutes & LightlyActiveMinutes & SedentaryMinutes & Calories\\\\\n",
       " <dbl> & <chr> & <dbl> & <dbl> & <dbl> & <dbl> & <dbl> & <dbl> & <dbl> & <dbl> & <dbl> & <dbl> & <dbl> & <dbl> & <dbl>\\\\\n",
       "\\hline\n",
       "\t 1503960366 & 4/12/2016 & 13162 & 8.50 & 8.50 & 0 & 1.88 & 0.55 & 6.06 & 0 & 25 & 13 & 328 &  728 & 1985\\\\\n",
       "\t 1503960366 & 4/13/2016 & 10735 & 6.97 & 6.97 & 0 & 1.57 & 0.69 & 4.71 & 0 & 21 & 19 & 217 &  776 & 1797\\\\\n",
       "\t 1503960366 & 4/14/2016 & 10460 & 6.74 & 6.74 & 0 & 2.44 & 0.40 & 3.91 & 0 & 30 & 11 & 181 & 1218 & 1776\\\\\n",
       "\t 1503960366 & 4/15/2016 &  9762 & 6.28 & 6.28 & 0 & 2.14 & 1.26 & 2.83 & 0 & 29 & 34 & 209 &  726 & 1745\\\\\n",
       "\t 1503960366 & 4/16/2016 & 12669 & 8.16 & 8.16 & 0 & 2.71 & 0.41 & 5.04 & 0 & 36 & 10 & 221 &  773 & 1863\\\\\n",
       "\t 1503960366 & 4/17/2016 &  9705 & 6.48 & 6.48 & 0 & 3.19 & 0.78 & 2.51 & 0 & 38 & 20 & 164 &  539 & 1728\\\\\n",
       "\\end{tabular}\n"
      ],
      "text/markdown": [
       "\n",
       "A tibble: 6 × 15\n",
       "\n",
       "| Id &lt;dbl&gt; | ActivityDate &lt;chr&gt; | TotalSteps &lt;dbl&gt; | TotalDistance &lt;dbl&gt; | TrackerDistance &lt;dbl&gt; | LoggedActivitiesDistance &lt;dbl&gt; | VeryActiveDistance &lt;dbl&gt; | ModeratelyActiveDistance &lt;dbl&gt; | LightActiveDistance &lt;dbl&gt; | SedentaryActiveDistance &lt;dbl&gt; | VeryActiveMinutes &lt;dbl&gt; | FairlyActiveMinutes &lt;dbl&gt; | LightlyActiveMinutes &lt;dbl&gt; | SedentaryMinutes &lt;dbl&gt; | Calories &lt;dbl&gt; |\n",
       "|---|---|---|---|---|---|---|---|---|---|---|---|---|---|---|\n",
       "| 1503960366 | 4/12/2016 | 13162 | 8.50 | 8.50 | 0 | 1.88 | 0.55 | 6.06 | 0 | 25 | 13 | 328 |  728 | 1985 |\n",
       "| 1503960366 | 4/13/2016 | 10735 | 6.97 | 6.97 | 0 | 1.57 | 0.69 | 4.71 | 0 | 21 | 19 | 217 |  776 | 1797 |\n",
       "| 1503960366 | 4/14/2016 | 10460 | 6.74 | 6.74 | 0 | 2.44 | 0.40 | 3.91 | 0 | 30 | 11 | 181 | 1218 | 1776 |\n",
       "| 1503960366 | 4/15/2016 |  9762 | 6.28 | 6.28 | 0 | 2.14 | 1.26 | 2.83 | 0 | 29 | 34 | 209 |  726 | 1745 |\n",
       "| 1503960366 | 4/16/2016 | 12669 | 8.16 | 8.16 | 0 | 2.71 | 0.41 | 5.04 | 0 | 36 | 10 | 221 |  773 | 1863 |\n",
       "| 1503960366 | 4/17/2016 |  9705 | 6.48 | 6.48 | 0 | 3.19 | 0.78 | 2.51 | 0 | 38 | 20 | 164 |  539 | 1728 |\n",
       "\n"
      ],
      "text/plain": [
       "  Id         ActivityDate TotalSteps TotalDistance TrackerDistance\n",
       "1 1503960366 4/12/2016    13162      8.50          8.50           \n",
       "2 1503960366 4/13/2016    10735      6.97          6.97           \n",
       "3 1503960366 4/14/2016    10460      6.74          6.74           \n",
       "4 1503960366 4/15/2016     9762      6.28          6.28           \n",
       "5 1503960366 4/16/2016    12669      8.16          8.16           \n",
       "6 1503960366 4/17/2016     9705      6.48          6.48           \n",
       "  LoggedActivitiesDistance VeryActiveDistance ModeratelyActiveDistance\n",
       "1 0                        1.88               0.55                    \n",
       "2 0                        1.57               0.69                    \n",
       "3 0                        2.44               0.40                    \n",
       "4 0                        2.14               1.26                    \n",
       "5 0                        2.71               0.41                    \n",
       "6 0                        3.19               0.78                    \n",
       "  LightActiveDistance SedentaryActiveDistance VeryActiveMinutes\n",
       "1 6.06                0                       25               \n",
       "2 4.71                0                       21               \n",
       "3 3.91                0                       30               \n",
       "4 2.83                0                       29               \n",
       "5 5.04                0                       36               \n",
       "6 2.51                0                       38               \n",
       "  FairlyActiveMinutes LightlyActiveMinutes SedentaryMinutes Calories\n",
       "1 13                  328                   728             1985    \n",
       "2 19                  217                   776             1797    \n",
       "3 11                  181                  1218             1776    \n",
       "4 34                  209                   726             1745    \n",
       "5 10                  221                   773             1863    \n",
       "6 20                  164                   539             1728    "
      ]
     },
     "metadata": {},
     "output_type": "display_data"
    }
   ],
   "source": [
    "# The first few rows of the data frame using head() function\n",
    "head(daily_activity)"
   ]
  },
  {
   "cell_type": "markdown",
   "id": "ded36662",
   "metadata": {
    "papermill": {
     "duration": 0.015524,
     "end_time": "2024-03-15T18:54:36.170349",
     "exception": false,
     "start_time": "2024-03-15T18:54:36.154825",
     "status": "completed"
    },
    "tags": []
   },
   "source": [
    "After using the head function we can see the values assigned to each column.\n",
    "\n",
    "Id: Identifier or unique reference for each record.\n",
    "\n",
    "ActivityDate: Date of the recorded activity.\n",
    "\n",
    "TotalSteps: Total number of steps taken.\n",
    "\n",
    "TotalDistance: Total distance covered during the activity.\n",
    "\n",
    "TrackerDistance: Distance tracked by a fitness tracker.\n",
    "\n",
    "LoggedActivitiesDistance: Distance covered during logged activities.\n",
    "\n",
    "VeryActiveDistance: Distance covered during very active activities.\n",
    "\n",
    "ModeratelyActiveDistance: Distance covered during moderately active activities.\n",
    "\n",
    "LightActiveDistance: Distance covered during light active activities.\n",
    "\n",
    "SedentaryActiveDistance: Distance covered during sedentary activities.\n",
    "\n",
    "VeryActiveMinutes: Total minutes spent in very active activities.\n",
    "\n",
    "FairlyActiveMinutes: Total minutes spent in fairly active activities.\n",
    "\n",
    "LightlyActiveMinutes: Total minutes spent in lightly active activities.\n",
    "\n",
    "SedentaryMinutes: Total minutes spent in sedentary activities.\n",
    "\n",
    "Calories: Total calories burned during the recorded activities."
   ]
  },
  {
   "cell_type": "markdown",
   "id": "8e76378c",
   "metadata": {
    "papermill": {
     "duration": 0.015433,
     "end_time": "2024-03-15T18:54:36.201128",
     "exception": false,
     "start_time": "2024-03-15T18:54:36.185695",
     "status": "completed"
    },
    "tags": []
   },
   "source": [
    "# Cleaning the Dataset"
   ]
  },
  {
   "cell_type": "markdown",
   "id": "bf62b850",
   "metadata": {
    "papermill": {
     "duration": 0.01535,
     "end_time": "2024-03-15T18:54:36.231943",
     "exception": false,
     "start_time": "2024-03-15T18:54:36.216593",
     "status": "completed"
    },
    "tags": []
   },
   "source": [
    "The first step in the data cleaning process includes utilizing the str() function to inspect the data type assigned to each column, whether it is a numerical vector or a categorical vector."
   ]
  },
  {
   "cell_type": "code",
   "execution_count": 6,
   "id": "4373f0d5",
   "metadata": {
    "execution": {
     "iopub.execute_input": "2024-03-15T18:54:36.267454Z",
     "iopub.status.busy": "2024-03-15T18:54:36.265636Z",
     "iopub.status.idle": "2024-03-15T18:54:36.308836Z",
     "shell.execute_reply": "2024-03-15T18:54:36.305987Z"
    },
    "papermill": {
     "duration": 0.064694,
     "end_time": "2024-03-15T18:54:36.311980",
     "exception": false,
     "start_time": "2024-03-15T18:54:36.247286",
     "status": "completed"
    },
    "tags": []
   },
   "outputs": [
    {
     "name": "stdout",
     "output_type": "stream",
     "text": [
      "spc_tbl_ [940 × 15] (S3: spec_tbl_df/tbl_df/tbl/data.frame)\n",
      " $ Id                      : num [1:940] 1.5e+09 1.5e+09 1.5e+09 1.5e+09 1.5e+09 ...\n",
      " $ ActivityDate            : chr [1:940] \"4/12/2016\" \"4/13/2016\" \"4/14/2016\" \"4/15/2016\" ...\n",
      " $ TotalSteps              : num [1:940] 13162 10735 10460 9762 12669 ...\n",
      " $ TotalDistance           : num [1:940] 8.5 6.97 6.74 6.28 8.16 ...\n",
      " $ TrackerDistance         : num [1:940] 8.5 6.97 6.74 6.28 8.16 ...\n",
      " $ LoggedActivitiesDistance: num [1:940] 0 0 0 0 0 0 0 0 0 0 ...\n",
      " $ VeryActiveDistance      : num [1:940] 1.88 1.57 2.44 2.14 2.71 ...\n",
      " $ ModeratelyActiveDistance: num [1:940] 0.55 0.69 0.4 1.26 0.41 ...\n",
      " $ LightActiveDistance     : num [1:940] 6.06 4.71 3.91 2.83 5.04 ...\n",
      " $ SedentaryActiveDistance : num [1:940] 0 0 0 0 0 0 0 0 0 0 ...\n",
      " $ VeryActiveMinutes       : num [1:940] 25 21 30 29 36 38 42 50 28 19 ...\n",
      " $ FairlyActiveMinutes     : num [1:940] 13 19 11 34 10 20 16 31 12 8 ...\n",
      " $ LightlyActiveMinutes    : num [1:940] 328 217 181 209 221 164 233 264 205 211 ...\n",
      " $ SedentaryMinutes        : num [1:940] 728 776 1218 726 773 ...\n",
      " $ Calories                : num [1:940] 1985 1797 1776 1745 1863 ...\n",
      " - attr(*, \"spec\")=\n",
      "  .. cols(\n",
      "  ..   Id = \u001b[32mcol_double()\u001b[39m,\n",
      "  ..   ActivityDate = \u001b[31mcol_character()\u001b[39m,\n",
      "  ..   TotalSteps = \u001b[32mcol_double()\u001b[39m,\n",
      "  ..   TotalDistance = \u001b[32mcol_double()\u001b[39m,\n",
      "  ..   TrackerDistance = \u001b[32mcol_double()\u001b[39m,\n",
      "  ..   LoggedActivitiesDistance = \u001b[32mcol_double()\u001b[39m,\n",
      "  ..   VeryActiveDistance = \u001b[32mcol_double()\u001b[39m,\n",
      "  ..   ModeratelyActiveDistance = \u001b[32mcol_double()\u001b[39m,\n",
      "  ..   LightActiveDistance = \u001b[32mcol_double()\u001b[39m,\n",
      "  ..   SedentaryActiveDistance = \u001b[32mcol_double()\u001b[39m,\n",
      "  ..   VeryActiveMinutes = \u001b[32mcol_double()\u001b[39m,\n",
      "  ..   FairlyActiveMinutes = \u001b[32mcol_double()\u001b[39m,\n",
      "  ..   LightlyActiveMinutes = \u001b[32mcol_double()\u001b[39m,\n",
      "  ..   SedentaryMinutes = \u001b[32mcol_double()\u001b[39m,\n",
      "  ..   Calories = \u001b[32mcol_double()\u001b[39m\n",
      "  .. )\n",
      " - attr(*, \"problems\")=<externalptr> \n"
     ]
    }
   ],
   "source": [
    "str(daily_activity)"
   ]
  },
  {
   "cell_type": "markdown",
   "id": "75ce0836",
   "metadata": {
    "papermill": {
     "duration": 0.015683,
     "end_time": "2024-03-15T18:54:36.343370",
     "exception": false,
     "start_time": "2024-03-15T18:54:36.327687",
     "status": "completed"
    },
    "tags": []
   },
   "source": [
    "After examing the data we can see that the \"Id\" column is formated as a numeric vector, but for the purpose of this analysis this should be formatted as a character vector because we do not want to use this column for mathmatical calculations in our analysis. In addition, to the \"Id\" column the \"ActivityDate\" should be formated from character vector to date vector. To finally deplay the changes using the str() function."
   ]
  },
  {
   "cell_type": "code",
   "execution_count": 7,
   "id": "4a93361f",
   "metadata": {
    "execution": {
     "iopub.execute_input": "2024-03-15T18:54:36.379413Z",
     "iopub.status.busy": "2024-03-15T18:54:36.377351Z",
     "iopub.status.idle": "2024-03-15T18:54:36.427868Z",
     "shell.execute_reply": "2024-03-15T18:54:36.425113Z"
    },
    "papermill": {
     "duration": 0.071812,
     "end_time": "2024-03-15T18:54:36.430825",
     "exception": false,
     "start_time": "2024-03-15T18:54:36.359013",
     "status": "completed"
    },
    "tags": []
   },
   "outputs": [
    {
     "name": "stdout",
     "output_type": "stream",
     "text": [
      "spc_tbl_ [940 × 15] (S3: spec_tbl_df/tbl_df/tbl/data.frame)\n",
      " $ Id                      : chr [1:940] \"1503960366\" \"1503960366\" \"1503960366\" \"1503960366\" ...\n",
      " $ ActivityDate            : Date[1:940], format: \"2016-04-12\" \"2016-04-13\" ...\n",
      " $ TotalSteps              : num [1:940] 13162 10735 10460 9762 12669 ...\n",
      " $ TotalDistance           : num [1:940] 8.5 6.97 6.74 6.28 8.16 ...\n",
      " $ TrackerDistance         : num [1:940] 8.5 6.97 6.74 6.28 8.16 ...\n",
      " $ LoggedActivitiesDistance: num [1:940] 0 0 0 0 0 0 0 0 0 0 ...\n",
      " $ VeryActiveDistance      : num [1:940] 1.88 1.57 2.44 2.14 2.71 ...\n",
      " $ ModeratelyActiveDistance: num [1:940] 0.55 0.69 0.4 1.26 0.41 ...\n",
      " $ LightActiveDistance     : num [1:940] 6.06 4.71 3.91 2.83 5.04 ...\n",
      " $ SedentaryActiveDistance : num [1:940] 0 0 0 0 0 0 0 0 0 0 ...\n",
      " $ VeryActiveMinutes       : num [1:940] 25 21 30 29 36 38 42 50 28 19 ...\n",
      " $ FairlyActiveMinutes     : num [1:940] 13 19 11 34 10 20 16 31 12 8 ...\n",
      " $ LightlyActiveMinutes    : num [1:940] 328 217 181 209 221 164 233 264 205 211 ...\n",
      " $ SedentaryMinutes        : num [1:940] 728 776 1218 726 773 ...\n",
      " $ Calories                : num [1:940] 1985 1797 1776 1745 1863 ...\n",
      " - attr(*, \"spec\")=\n",
      "  .. cols(\n",
      "  ..   Id = \u001b[32mcol_double()\u001b[39m,\n",
      "  ..   ActivityDate = \u001b[31mcol_character()\u001b[39m,\n",
      "  ..   TotalSteps = \u001b[32mcol_double()\u001b[39m,\n",
      "  ..   TotalDistance = \u001b[32mcol_double()\u001b[39m,\n",
      "  ..   TrackerDistance = \u001b[32mcol_double()\u001b[39m,\n",
      "  ..   LoggedActivitiesDistance = \u001b[32mcol_double()\u001b[39m,\n",
      "  ..   VeryActiveDistance = \u001b[32mcol_double()\u001b[39m,\n",
      "  ..   ModeratelyActiveDistance = \u001b[32mcol_double()\u001b[39m,\n",
      "  ..   LightActiveDistance = \u001b[32mcol_double()\u001b[39m,\n",
      "  ..   SedentaryActiveDistance = \u001b[32mcol_double()\u001b[39m,\n",
      "  ..   VeryActiveMinutes = \u001b[32mcol_double()\u001b[39m,\n",
      "  ..   FairlyActiveMinutes = \u001b[32mcol_double()\u001b[39m,\n",
      "  ..   LightlyActiveMinutes = \u001b[32mcol_double()\u001b[39m,\n",
      "  ..   SedentaryMinutes = \u001b[32mcol_double()\u001b[39m,\n",
      "  ..   Calories = \u001b[32mcol_double()\u001b[39m\n",
      "  .. )\n",
      " - attr(*, \"problems\")=<externalptr> \n"
     ]
    }
   ],
   "source": [
    "# Convert 'Id' to character\n",
    "daily_activity$Id <- as.character(daily_activity$Id)\n",
    "\n",
    "# Convert 'ActivityDate' to date\n",
    "daily_activity$ActivityDate <- as.Date(daily_activity$ActivityDate, format=\"%m/%d/%Y\")\n",
    "\n",
    "# Display the structure of the data frame after conversion\n",
    "str(daily_activity)"
   ]
  },
  {
   "cell_type": "markdown",
   "id": "db844ad7",
   "metadata": {
    "papermill": {
     "duration": 0.015978,
     "end_time": "2024-03-15T18:54:36.462732",
     "exception": false,
     "start_time": "2024-03-15T18:54:36.446754",
     "status": "completed"
    },
    "tags": []
   },
   "source": [
    "Now that we have reformatted the data structure, let's rename our columns starting with the tolower() function that converts all column names to lowercase. This ensures uniformity in naming conventions and simplifies further data manipulation. Additionally, we create a mapping vector (names_mapping) to define the correspondence between the original and standardized column names. To finally apply the renaming based on the mapping vector to ensures that our columns are consistently and descriptively named, providing clarity for subsequent data analysis."
   ]
  },
  {
   "cell_type": "code",
   "execution_count": 8,
   "id": "7dc6af58",
   "metadata": {
    "execution": {
     "iopub.execute_input": "2024-03-15T18:54:36.498904Z",
     "iopub.status.busy": "2024-03-15T18:54:36.496963Z",
     "iopub.status.idle": "2024-03-15T18:54:36.519610Z",
     "shell.execute_reply": "2024-03-15T18:54:36.517450Z"
    },
    "papermill": {
     "duration": 0.044226,
     "end_time": "2024-03-15T18:54:36.522810",
     "exception": false,
     "start_time": "2024-03-15T18:54:36.478584",
     "status": "completed"
    },
    "tags": []
   },
   "outputs": [],
   "source": [
    "# Rename columns\n",
    "colnames(daily_activity) <- tolower(colnames(daily_activity))\n",
    "\n",
    "names_mapping <- c(\n",
    "  \"id\" = \"id\",\n",
    "  \"activitydate\" = \"activity_date\",\n",
    "  \"totalsteps\" = \"total_steps\",\n",
    "  \"totaldistance\" = \"total_distance\",\n",
    "  \"trackerdistance\" = \"tracker_distance\",\n",
    "  \"loggedactivitiesdistance\" = \"logged_activities_distance\",\n",
    "  \"veryactivedistance\" = \"very_active_distance\",\n",
    "  \"moderatelyactivedistance\" = \"moderately_active_distance\",\n",
    "  \"lightactivedistance\" = \"light_active_distance\",\n",
    "  \"sedentaryactivedistance\" = \"sedentary_active_distance\",\n",
    "  \"veryactiveminutes\" = \"very_active_minutes\",\n",
    "  \"fairlyactiveminutes\" = \"fairly_active_minutes\",\n",
    "  \"lightlyactiveminutes\" = \"lightly_active_minutes\",\n",
    "  \"sedentaryminutes\" = \"sedentary_minutes\",\n",
    "  \"calories\" = \"calories\"\n",
    ")\n",
    "\n",
    "colnames(daily_activity) <- names_mapping[colnames(daily_activity)]"
   ]
  },
  {
   "cell_type": "markdown",
   "id": "ae29c771",
   "metadata": {
    "papermill": {
     "duration": 0.016543,
     "end_time": "2024-03-15T18:54:36.555417",
     "exception": false,
     "start_time": "2024-03-15T18:54:36.538874",
     "status": "completed"
    },
    "tags": []
   },
   "source": [
    "Now let's desplay the changes by using the head() and colnames()"
   ]
  },
  {
   "cell_type": "code",
   "execution_count": 9,
   "id": "7dca7a8d",
   "metadata": {
    "execution": {
     "iopub.execute_input": "2024-03-15T18:54:36.591387Z",
     "iopub.status.busy": "2024-03-15T18:54:36.589663Z",
     "iopub.status.idle": "2024-03-15T18:54:36.658413Z",
     "shell.execute_reply": "2024-03-15T18:54:36.656074Z"
    },
    "papermill": {
     "duration": 0.089988,
     "end_time": "2024-03-15T18:54:36.661364",
     "exception": false,
     "start_time": "2024-03-15T18:54:36.571376",
     "status": "completed"
    },
    "tags": []
   },
   "outputs": [
    {
     "name": "stdout",
     "output_type": "stream",
     "text": [
      "[1] \"First few rows of the data frame:\"\n"
     ]
    },
    {
     "data": {
      "text/html": [
       "<table class=\"dataframe\">\n",
       "<caption>A tibble: 6 × 15</caption>\n",
       "<thead>\n",
       "\t<tr><th scope=col>id</th><th scope=col>activity_date</th><th scope=col>total_steps</th><th scope=col>total_distance</th><th scope=col>tracker_distance</th><th scope=col>logged_activities_distance</th><th scope=col>very_active_distance</th><th scope=col>moderately_active_distance</th><th scope=col>light_active_distance</th><th scope=col>sedentary_active_distance</th><th scope=col>very_active_minutes</th><th scope=col>fairly_active_minutes</th><th scope=col>lightly_active_minutes</th><th scope=col>sedentary_minutes</th><th scope=col>calories</th></tr>\n",
       "\t<tr><th scope=col>&lt;chr&gt;</th><th scope=col>&lt;date&gt;</th><th scope=col>&lt;dbl&gt;</th><th scope=col>&lt;dbl&gt;</th><th scope=col>&lt;dbl&gt;</th><th scope=col>&lt;dbl&gt;</th><th scope=col>&lt;dbl&gt;</th><th scope=col>&lt;dbl&gt;</th><th scope=col>&lt;dbl&gt;</th><th scope=col>&lt;dbl&gt;</th><th scope=col>&lt;dbl&gt;</th><th scope=col>&lt;dbl&gt;</th><th scope=col>&lt;dbl&gt;</th><th scope=col>&lt;dbl&gt;</th><th scope=col>&lt;dbl&gt;</th></tr>\n",
       "</thead>\n",
       "<tbody>\n",
       "\t<tr><td>1503960366</td><td>2016-04-12</td><td>13162</td><td>8.50</td><td>8.50</td><td>0</td><td>1.88</td><td>0.55</td><td>6.06</td><td>0</td><td>25</td><td>13</td><td>328</td><td> 728</td><td>1985</td></tr>\n",
       "\t<tr><td>1503960366</td><td>2016-04-13</td><td>10735</td><td>6.97</td><td>6.97</td><td>0</td><td>1.57</td><td>0.69</td><td>4.71</td><td>0</td><td>21</td><td>19</td><td>217</td><td> 776</td><td>1797</td></tr>\n",
       "\t<tr><td>1503960366</td><td>2016-04-14</td><td>10460</td><td>6.74</td><td>6.74</td><td>0</td><td>2.44</td><td>0.40</td><td>3.91</td><td>0</td><td>30</td><td>11</td><td>181</td><td>1218</td><td>1776</td></tr>\n",
       "\t<tr><td>1503960366</td><td>2016-04-15</td><td> 9762</td><td>6.28</td><td>6.28</td><td>0</td><td>2.14</td><td>1.26</td><td>2.83</td><td>0</td><td>29</td><td>34</td><td>209</td><td> 726</td><td>1745</td></tr>\n",
       "\t<tr><td>1503960366</td><td>2016-04-16</td><td>12669</td><td>8.16</td><td>8.16</td><td>0</td><td>2.71</td><td>0.41</td><td>5.04</td><td>0</td><td>36</td><td>10</td><td>221</td><td> 773</td><td>1863</td></tr>\n",
       "\t<tr><td>1503960366</td><td>2016-04-17</td><td> 9705</td><td>6.48</td><td>6.48</td><td>0</td><td>3.19</td><td>0.78</td><td>2.51</td><td>0</td><td>38</td><td>20</td><td>164</td><td> 539</td><td>1728</td></tr>\n",
       "</tbody>\n",
       "</table>\n"
      ],
      "text/latex": [
       "A tibble: 6 × 15\n",
       "\\begin{tabular}{lllllllllllllll}\n",
       " id & activity\\_date & total\\_steps & total\\_distance & tracker\\_distance & logged\\_activities\\_distance & very\\_active\\_distance & moderately\\_active\\_distance & light\\_active\\_distance & sedentary\\_active\\_distance & very\\_active\\_minutes & fairly\\_active\\_minutes & lightly\\_active\\_minutes & sedentary\\_minutes & calories\\\\\n",
       " <chr> & <date> & <dbl> & <dbl> & <dbl> & <dbl> & <dbl> & <dbl> & <dbl> & <dbl> & <dbl> & <dbl> & <dbl> & <dbl> & <dbl>\\\\\n",
       "\\hline\n",
       "\t 1503960366 & 2016-04-12 & 13162 & 8.50 & 8.50 & 0 & 1.88 & 0.55 & 6.06 & 0 & 25 & 13 & 328 &  728 & 1985\\\\\n",
       "\t 1503960366 & 2016-04-13 & 10735 & 6.97 & 6.97 & 0 & 1.57 & 0.69 & 4.71 & 0 & 21 & 19 & 217 &  776 & 1797\\\\\n",
       "\t 1503960366 & 2016-04-14 & 10460 & 6.74 & 6.74 & 0 & 2.44 & 0.40 & 3.91 & 0 & 30 & 11 & 181 & 1218 & 1776\\\\\n",
       "\t 1503960366 & 2016-04-15 &  9762 & 6.28 & 6.28 & 0 & 2.14 & 1.26 & 2.83 & 0 & 29 & 34 & 209 &  726 & 1745\\\\\n",
       "\t 1503960366 & 2016-04-16 & 12669 & 8.16 & 8.16 & 0 & 2.71 & 0.41 & 5.04 & 0 & 36 & 10 & 221 &  773 & 1863\\\\\n",
       "\t 1503960366 & 2016-04-17 &  9705 & 6.48 & 6.48 & 0 & 3.19 & 0.78 & 2.51 & 0 & 38 & 20 & 164 &  539 & 1728\\\\\n",
       "\\end{tabular}\n"
      ],
      "text/markdown": [
       "\n",
       "A tibble: 6 × 15\n",
       "\n",
       "| id &lt;chr&gt; | activity_date &lt;date&gt; | total_steps &lt;dbl&gt; | total_distance &lt;dbl&gt; | tracker_distance &lt;dbl&gt; | logged_activities_distance &lt;dbl&gt; | very_active_distance &lt;dbl&gt; | moderately_active_distance &lt;dbl&gt; | light_active_distance &lt;dbl&gt; | sedentary_active_distance &lt;dbl&gt; | very_active_minutes &lt;dbl&gt; | fairly_active_minutes &lt;dbl&gt; | lightly_active_minutes &lt;dbl&gt; | sedentary_minutes &lt;dbl&gt; | calories &lt;dbl&gt; |\n",
       "|---|---|---|---|---|---|---|---|---|---|---|---|---|---|---|\n",
       "| 1503960366 | 2016-04-12 | 13162 | 8.50 | 8.50 | 0 | 1.88 | 0.55 | 6.06 | 0 | 25 | 13 | 328 |  728 | 1985 |\n",
       "| 1503960366 | 2016-04-13 | 10735 | 6.97 | 6.97 | 0 | 1.57 | 0.69 | 4.71 | 0 | 21 | 19 | 217 |  776 | 1797 |\n",
       "| 1503960366 | 2016-04-14 | 10460 | 6.74 | 6.74 | 0 | 2.44 | 0.40 | 3.91 | 0 | 30 | 11 | 181 | 1218 | 1776 |\n",
       "| 1503960366 | 2016-04-15 |  9762 | 6.28 | 6.28 | 0 | 2.14 | 1.26 | 2.83 | 0 | 29 | 34 | 209 |  726 | 1745 |\n",
       "| 1503960366 | 2016-04-16 | 12669 | 8.16 | 8.16 | 0 | 2.71 | 0.41 | 5.04 | 0 | 36 | 10 | 221 |  773 | 1863 |\n",
       "| 1503960366 | 2016-04-17 |  9705 | 6.48 | 6.48 | 0 | 3.19 | 0.78 | 2.51 | 0 | 38 | 20 | 164 |  539 | 1728 |\n",
       "\n"
      ],
      "text/plain": [
       "  id         activity_date total_steps total_distance tracker_distance\n",
       "1 1503960366 2016-04-12    13162       8.50           8.50            \n",
       "2 1503960366 2016-04-13    10735       6.97           6.97            \n",
       "3 1503960366 2016-04-14    10460       6.74           6.74            \n",
       "4 1503960366 2016-04-15     9762       6.28           6.28            \n",
       "5 1503960366 2016-04-16    12669       8.16           8.16            \n",
       "6 1503960366 2016-04-17     9705       6.48           6.48            \n",
       "  logged_activities_distance very_active_distance moderately_active_distance\n",
       "1 0                          1.88                 0.55                      \n",
       "2 0                          1.57                 0.69                      \n",
       "3 0                          2.44                 0.40                      \n",
       "4 0                          2.14                 1.26                      \n",
       "5 0                          2.71                 0.41                      \n",
       "6 0                          3.19                 0.78                      \n",
       "  light_active_distance sedentary_active_distance very_active_minutes\n",
       "1 6.06                  0                         25                 \n",
       "2 4.71                  0                         21                 \n",
       "3 3.91                  0                         30                 \n",
       "4 2.83                  0                         29                 \n",
       "5 5.04                  0                         36                 \n",
       "6 2.51                  0                         38                 \n",
       "  fairly_active_minutes lightly_active_minutes sedentary_minutes calories\n",
       "1 13                    328                     728              1985    \n",
       "2 19                    217                     776              1797    \n",
       "3 11                    181                    1218              1776    \n",
       "4 34                    209                     726              1745    \n",
       "5 10                    221                     773              1863    \n",
       "6 20                    164                     539              1728    "
      ]
     },
     "metadata": {},
     "output_type": "display_data"
    },
    {
     "name": "stdout",
     "output_type": "stream",
     "text": [
      "[1] \"Column names:\"\n",
      " [1] \"id\"                         \"activity_date\"             \n",
      " [3] \"total_steps\"                \"total_distance\"            \n",
      " [5] \"tracker_distance\"           \"logged_activities_distance\"\n",
      " [7] \"very_active_distance\"       \"moderately_active_distance\"\n",
      " [9] \"light_active_distance\"      \"sedentary_active_distance\" \n",
      "[11] \"very_active_minutes\"        \"fairly_active_minutes\"     \n",
      "[13] \"lightly_active_minutes\"     \"sedentary_minutes\"         \n",
      "[15] \"calories\"                  \n"
     ]
    }
   ],
   "source": [
    "# Display the first few rows of the data frame to see the changes\n",
    "print(\"First few rows of the data frame:\")\n",
    "head(daily_activity)\n",
    "\n",
    "# Check and print the column names\n",
    "print(\"Column names:\")\n",
    "print(colnames(daily_activity))"
   ]
  },
  {
   "cell_type": "markdown",
   "id": "86075c89",
   "metadata": {
    "papermill": {
     "duration": 0.016834,
     "end_time": "2024-03-15T18:54:36.751552",
     "exception": false,
     "start_time": "2024-03-15T18:54:36.734718",
     "status": "completed"
    },
    "tags": []
   },
   "source": [
    "# Processing the Dataset"
   ]
  },
  {
   "cell_type": "markdown",
   "id": "14f76d3f",
   "metadata": {
    "papermill": {
     "duration": 0.016953,
     "end_time": "2024-03-15T18:54:36.786353",
     "exception": false,
     "start_time": "2024-03-15T18:54:36.769400",
     "status": "completed"
    },
    "tags": []
   },
   "source": [
    "When reviewing the first 6 rows of the dataset using the head() function, it was observed that the 'total_distance' and 'tracker_distance' columns have similar values. However, it's unclear if they are related or recorded independently. To clarify, the values in these columns will be combined into a new column named \"sum_distance\". Afterwards, any values greater than 0 in this column will be identified. Additionally, the 'logged_activity_distance' column, which seems to contain only 0 values, will also be examined."
   ]
  },
  {
   "cell_type": "code",
   "execution_count": 10,
   "id": "89572e12",
   "metadata": {
    "execution": {
     "iopub.execute_input": "2024-03-15T18:54:36.825354Z",
     "iopub.status.busy": "2024-03-15T18:54:36.823664Z",
     "iopub.status.idle": "2024-03-15T18:54:36.906055Z",
     "shell.execute_reply": "2024-03-15T18:54:36.903382Z"
    },
    "papermill": {
     "duration": 0.105339,
     "end_time": "2024-03-15T18:54:36.909054",
     "exception": false,
     "start_time": "2024-03-15T18:54:36.803715",
     "status": "completed"
    },
    "tags": []
   },
   "outputs": [
    {
     "name": "stdout",
     "output_type": "stream",
     "text": [
      "[1] \"Filtered data frame:\"\n",
      "\u001b[90m# A tibble: 32 × 4\u001b[39m\n",
      "   total_distance logged_activities_distance tracker_distance sum_distance\n",
      "            \u001b[3m\u001b[90m<dbl>\u001b[39m\u001b[23m                      \u001b[3m\u001b[90m<dbl>\u001b[39m\u001b[23m            \u001b[3m\u001b[90m<dbl>\u001b[39m\u001b[23m        \u001b[3m\u001b[90m<dbl>\u001b[39m\u001b[23m\n",
      "\u001b[90m 1\u001b[39m           5.27                       1.96             5.27         5.08\n",
      "\u001b[90m 2\u001b[39m           9.71                       4.08             7.88         9.71\n",
      "\u001b[90m 3\u001b[39m           9.27                       2.79             9.08         9.26\n",
      "\u001b[90m 4\u001b[39m           8.72                       3.17             8.68         8.73\n",
      "\u001b[90m 5\u001b[39m          10.3                        4.87             9.48        10.3 \n",
      "\u001b[90m 6\u001b[39m           9.65                       4.85             8.60         9.65\n",
      "\u001b[90m 7\u001b[39m           8.24                       3.29             7.48         8.25\n",
      "\u001b[90m 8\u001b[39m          11.0                        4.93             9.91        11.0 \n",
      "\u001b[90m 9\u001b[39m          10.5                        4.94             9.5         10.5 \n",
      "\u001b[90m10\u001b[39m          11.3                        4.92            10.4         11.3 \n",
      "\u001b[90m# ℹ 22 more rows\u001b[39m\n"
     ]
    }
   ],
   "source": [
    "# Create 'sum_distance' column\n",
    "daily_activity$sum_distance <- daily_activity$very_active_distance +\n",
    "                               daily_activity$moderately_active_distance +\n",
    "                               daily_activity$light_active_distance +\n",
    "                               daily_activity$sedentary_active_distance\n",
    "\n",
    "# Filter rows where 'LoggedActivitiesDistance' is greater than 0\n",
    "filtered_daily_activity <- daily_activity[daily_activity$logged_activities_distance > 0,\n",
    "                                          c('total_distance', 'logged_activities_distance', 'tracker_distance', 'sum_distance')]\n",
    "\n",
    "# Display the filtered data frame\n",
    "print(\"Filtered data frame:\")\n",
    "print(filtered_daily_activity)"
   ]
  },
  {
   "cell_type": "markdown",
   "id": "fea40fb3",
   "metadata": {
    "papermill": {
     "duration": 0.01665,
     "end_time": "2024-03-15T18:54:36.942778",
     "exception": false,
     "start_time": "2024-03-15T18:54:36.926128",
     "status": "completed"
    },
    "tags": []
   },
   "source": [
    "The findings suggest that 'TotalDistance' and 'TrackerDistance' are mostly similar, with slight variations. Some entries in 'LoggedActivitiesDistance' exceed zero, but are rare. The sum of 'ActiveDistance' columns closely matches 'TotalDistance'. Keeping 'TotalDistance' seems sensible.\n",
    "\n",
    "For 'ActiveDistance' and 'ActiveMinutes', their categorization lacks clarity. Despite this, retaining them for analysis is recommended. So we will create a column called 'total_minutes' and add the following columns 'very_active_minutes', 'fairly_active_minutes', 'lightly_active_minutes', 'sedentary_minutes' using the mutate() function "
   ]
  },
  {
   "cell_type": "code",
   "execution_count": 11,
   "id": "8db87c34",
   "metadata": {
    "execution": {
     "iopub.execute_input": "2024-03-15T18:54:36.982381Z",
     "iopub.status.busy": "2024-03-15T18:54:36.980469Z",
     "iopub.status.idle": "2024-03-15T18:54:37.052706Z",
     "shell.execute_reply": "2024-03-15T18:54:37.050126Z"
    },
    "papermill": {
     "duration": 0.096248,
     "end_time": "2024-03-15T18:54:37.055713",
     "exception": false,
     "start_time": "2024-03-15T18:54:36.959465",
     "status": "completed"
    },
    "tags": []
   },
   "outputs": [
    {
     "name": "stdout",
     "output_type": "stream",
     "text": [
      "\u001b[90m# A tibble: 940 × 17\u001b[39m\n",
      "   id         activity_date total_steps total_distance tracker_distance\n",
      "   \u001b[3m\u001b[90m<chr>\u001b[39m\u001b[23m      \u001b[3m\u001b[90m<date>\u001b[39m\u001b[23m              \u001b[3m\u001b[90m<dbl>\u001b[39m\u001b[23m          \u001b[3m\u001b[90m<dbl>\u001b[39m\u001b[23m            \u001b[3m\u001b[90m<dbl>\u001b[39m\u001b[23m\n",
      "\u001b[90m 1\u001b[39m 1503960366 2016-04-12          \u001b[4m1\u001b[24m\u001b[4m3\u001b[24m162           8.5              8.5 \n",
      "\u001b[90m 2\u001b[39m 1503960366 2016-04-13          \u001b[4m1\u001b[24m\u001b[4m0\u001b[24m735           6.97             6.97\n",
      "\u001b[90m 3\u001b[39m 1503960366 2016-04-14          \u001b[4m1\u001b[24m\u001b[4m0\u001b[24m460           6.74             6.74\n",
      "\u001b[90m 4\u001b[39m 1503960366 2016-04-15           \u001b[4m9\u001b[24m762           6.28             6.28\n",
      "\u001b[90m 5\u001b[39m 1503960366 2016-04-16          \u001b[4m1\u001b[24m\u001b[4m2\u001b[24m669           8.16             8.16\n",
      "\u001b[90m 6\u001b[39m 1503960366 2016-04-17           \u001b[4m9\u001b[24m705           6.48             6.48\n",
      "\u001b[90m 7\u001b[39m 1503960366 2016-04-18          \u001b[4m1\u001b[24m\u001b[4m3\u001b[24m019           8.59             8.59\n",
      "\u001b[90m 8\u001b[39m 1503960366 2016-04-19          \u001b[4m1\u001b[24m\u001b[4m5\u001b[24m506           9.88             9.88\n",
      "\u001b[90m 9\u001b[39m 1503960366 2016-04-20          \u001b[4m1\u001b[24m\u001b[4m0\u001b[24m544           6.68             6.68\n",
      "\u001b[90m10\u001b[39m 1503960366 2016-04-21           \u001b[4m9\u001b[24m819           6.34             6.34\n",
      "\u001b[90m# ℹ 930 more rows\u001b[39m\n",
      "\u001b[90m# ℹ 12 more variables: logged_activities_distance <dbl>,\u001b[39m\n",
      "\u001b[90m#   very_active_distance <dbl>, moderately_active_distance <dbl>,\u001b[39m\n",
      "\u001b[90m#   light_active_distance <dbl>, sedentary_active_distance <dbl>,\u001b[39m\n",
      "\u001b[90m#   very_active_minutes <dbl>, fairly_active_minutes <dbl>,\u001b[39m\n",
      "\u001b[90m#   lightly_active_minutes <dbl>, sedentary_minutes <dbl>, calories <dbl>,\u001b[39m\n",
      "\u001b[90m#   sum_distance <dbl>, total_minutes <dbl>\u001b[39m\n"
     ]
    }
   ],
   "source": [
    "daily_activity <- mutate(daily_activity, total_minutes = very_active_minutes + fairly_active_minutes + lightly_active_minutes + sedentary_minutes)\n",
    "\n",
    "print(daily_activity)"
   ]
  },
  {
   "cell_type": "markdown",
   "id": "9703f513",
   "metadata": {
    "papermill": {
     "duration": 0.017104,
     "end_time": "2024-03-15T18:54:37.090183",
     "exception": false,
     "start_time": "2024-03-15T18:54:37.073079",
     "status": "completed"
    },
    "tags": []
   },
   "source": [
    "In the next step, additional columns will be added to the dataset. Specifically, a column named 'day_of_week' will store the names of the days corresponding to each entry in the 'activity_date' column. This will facilitate temporal analysis and categorical representation of activity patterns. Additionally, a column named 'n_day_of_week' will assign a numerical value to each day of the week. This will enable numerical comparisons based on the day of the week."
   ]
  },
  {
   "cell_type": "code",
   "execution_count": 12,
   "id": "62cd8538",
   "metadata": {
    "execution": {
     "iopub.execute_input": "2024-03-15T18:54:37.128444Z",
     "iopub.status.busy": "2024-03-15T18:54:37.126554Z",
     "iopub.status.idle": "2024-03-15T18:54:37.145627Z",
     "shell.execute_reply": "2024-03-15T18:54:37.143486Z"
    },
    "papermill": {
     "duration": 0.041288,
     "end_time": "2024-03-15T18:54:37.148513",
     "exception": false,
     "start_time": "2024-03-15T18:54:37.107225",
     "status": "completed"
    },
    "tags": []
   },
   "outputs": [],
   "source": [
    "daily_activity$day_of_week <- weekdays(daily_activity$activity_date)\n",
    "daily_activity$n_day_of_week <- wday(daily_activity$activity_date)"
   ]
  },
  {
   "cell_type": "markdown",
   "id": "e109aa83",
   "metadata": {
    "papermill": {
     "duration": 0.017117,
     "end_time": "2024-03-15T18:54:37.182656",
     "exception": false,
     "start_time": "2024-03-15T18:54:37.165539",
     "status": "completed"
    },
    "tags": []
   },
   "source": [
    "lets also check for null values using is.na() funcion"
   ]
  },
  {
   "cell_type": "code",
   "execution_count": 13,
   "id": "b3b4fe80",
   "metadata": {
    "execution": {
     "iopub.execute_input": "2024-03-15T18:54:37.222723Z",
     "iopub.status.busy": "2024-03-15T18:54:37.220788Z",
     "iopub.status.idle": "2024-03-15T18:54:37.244044Z",
     "shell.execute_reply": "2024-03-15T18:54:37.241587Z"
    },
    "papermill": {
     "duration": 0.047316,
     "end_time": "2024-03-15T18:54:37.246995",
     "exception": false,
     "start_time": "2024-03-15T18:54:37.199679",
     "status": "completed"
    },
    "tags": []
   },
   "outputs": [
    {
     "name": "stdout",
     "output_type": "stream",
     "text": [
      "[1] \"Total number of null values are:\"\n",
      "                        id              activity_date \n",
      "                         0                          0 \n",
      "               total_steps             total_distance \n",
      "                         0                          0 \n",
      "          tracker_distance logged_activities_distance \n",
      "                         0                          0 \n",
      "      very_active_distance moderately_active_distance \n",
      "                         0                          0 \n",
      "     light_active_distance  sedentary_active_distance \n",
      "                         0                          0 \n",
      "       very_active_minutes      fairly_active_minutes \n",
      "                         0                          0 \n",
      "    lightly_active_minutes          sedentary_minutes \n",
      "                         0                          0 \n",
      "                  calories               sum_distance \n",
      "                         0                          0 \n",
      "             total_minutes                day_of_week \n",
      "                         0                          0 \n",
      "             n_day_of_week \n",
      "                         0 \n"
     ]
    }
   ],
   "source": [
    "print(\"Total number of null values are:\")\n",
    "print(colSums(is.na(daily_activity)))"
   ]
  },
  {
   "cell_type": "markdown",
   "id": "4fee5018",
   "metadata": {
    "papermill": {
     "duration": 0.017379,
     "end_time": "2024-03-15T18:54:37.282333",
     "exception": false,
     "start_time": "2024-03-15T18:54:37.264954",
     "status": "completed"
    },
    "tags": []
   },
   "source": [
    "And number of duplicates using sum() function"
   ]
  },
  {
   "cell_type": "code",
   "execution_count": 14,
   "id": "0e147914",
   "metadata": {
    "execution": {
     "iopub.execute_input": "2024-03-15T18:54:37.322614Z",
     "iopub.status.busy": "2024-03-15T18:54:37.320638Z",
     "iopub.status.idle": "2024-03-15T18:54:37.365683Z",
     "shell.execute_reply": "2024-03-15T18:54:37.363527Z"
    },
    "papermill": {
     "duration": 0.068508,
     "end_time": "2024-03-15T18:54:37.368540",
     "exception": false,
     "start_time": "2024-03-15T18:54:37.300032",
     "status": "completed"
    },
    "tags": []
   },
   "outputs": [
    {
     "name": "stdout",
     "output_type": "stream",
     "text": [
      "Total number of duplicated values are:  0 \n"
     ]
    }
   ],
   "source": [
    "cat(\"Total number of duplicated values are: \", sum(duplicated(daily_activity)), \"\\n\")"
   ]
  },
  {
   "cell_type": "markdown",
   "id": "d39b8dec",
   "metadata": {
    "papermill": {
     "duration": 0.017752,
     "end_time": "2024-03-15T18:54:37.405257",
     "exception": false,
     "start_time": "2024-03-15T18:54:37.387505",
     "status": "completed"
    },
    "tags": []
   },
   "source": [
    "# Analysing the Dataset"
   ]
  },
  {
   "cell_type": "markdown",
   "id": "e8f3d9fc",
   "metadata": {
    "papermill": {
     "duration": 0.018017,
     "end_time": "2024-03-15T18:54:37.440536",
     "exception": false,
     "start_time": "2024-03-15T18:54:37.422519",
     "status": "completed"
    },
    "tags": []
   },
   "source": [
    "This section of the code will utilize the group_by() function to group the data based on the day_of_week column. Following this, the summarise() function will compute summary statistics for each group, including total steps, total distance, total minutes, and total calories. Finally, the data will be arranged using the arrange() function to ensure a chronological sequence from Sunday to Saturday."
   ]
  },
  {
   "cell_type": "code",
   "execution_count": 15,
   "id": "a070e0b8",
   "metadata": {
    "execution": {
     "iopub.execute_input": "2024-03-15T18:54:37.479441Z",
     "iopub.status.busy": "2024-03-15T18:54:37.477550Z",
     "iopub.status.idle": "2024-03-15T18:54:37.514054Z",
     "shell.execute_reply": "2024-03-15T18:54:37.512085Z"
    },
    "papermill": {
     "duration": 0.060009,
     "end_time": "2024-03-15T18:54:37.517745",
     "exception": false,
     "start_time": "2024-03-15T18:54:37.457736",
     "status": "completed"
    },
    "tags": []
   },
   "outputs": [],
   "source": [
    "# Analyzing activity trends by day of the week\n",
    "activity_by_day <- daily_activity %>%\n",
    "  group_by(day_of_week) %>%\n",
    "  summarise(\n",
    "    total_steps = sum(total_steps, na.rm = TRUE),\n",
    "    total_distance = sum(total_distance, na.rm = TRUE),\n",
    "    total_minutes = sum(total_minutes, na.rm = TRUE),\n",
    "    total_calories = sum(calories, na.rm = TRUE)\n",
    "  ) %>%\n",
    "  arrange(match(day_of_week, c(\"Sunday\", \"Monday\", \"Tuesday\", \"Wednesday\", \"Thursday\", \"Friday\", \"Saturday\")))\n"
   ]
  },
  {
   "cell_type": "markdown",
   "id": "13905527",
   "metadata": {
    "papermill": {
     "duration": 0.018195,
     "end_time": "2024-03-15T18:54:37.553349",
     "exception": false,
     "start_time": "2024-03-15T18:54:37.535154",
     "status": "completed"
    },
    "tags": []
   },
   "source": [
    "In this section, however, the group_by() function will group the data based on the n_day_of_week column. Subsequently, the summarise() function will calculate summary statistics for each group, including total steps, total distance, total minutes, and total calories. Finally, the resulting data will be stored in a new data frame named activity_by_numeric_day, providing aggregated information about activity trends for each numerical day of the week."
   ]
  },
  {
   "cell_type": "code",
   "execution_count": 16,
   "id": "f04802cd",
   "metadata": {
    "execution": {
     "iopub.execute_input": "2024-03-15T18:54:37.592869Z",
     "iopub.status.busy": "2024-03-15T18:54:37.591044Z",
     "iopub.status.idle": "2024-03-15T18:54:37.615865Z",
     "shell.execute_reply": "2024-03-15T18:54:37.613852Z"
    },
    "papermill": {
     "duration": 0.048956,
     "end_time": "2024-03-15T18:54:37.619967",
     "exception": false,
     "start_time": "2024-03-15T18:54:37.571011",
     "status": "completed"
    },
    "tags": []
   },
   "outputs": [],
   "source": [
    "# Analyzing activity trends by numerical day of the week\n",
    "activity_by_numeric_day <- daily_activity %>%\n",
    "  group_by(n_day_of_week) %>%\n",
    "  summarise(\n",
    "    total_steps = sum(total_steps, na.rm = TRUE),\n",
    "    total_distance = sum(total_distance, na.rm = TRUE),\n",
    "    total_minutes = sum(total_minutes, na.rm = TRUE),\n",
    "    total_calories = sum(calories, na.rm = TRUE)\n",
    "  )"
   ]
  },
  {
   "cell_type": "markdown",
   "id": "cc503c04",
   "metadata": {
    "papermill": {
     "duration": 0.018054,
     "end_time": "2024-03-15T18:54:37.656444",
     "exception": false,
     "start_time": "2024-03-15T18:54:37.638390",
     "status": "completed"
    },
    "tags": []
   },
   "source": [
    "In this section, the data will be grouped based on the day_of_week column using the group_by() function. Then, the summarise() function will calculate average activity metrics for each day of the week, including average steps, average distance, average minutes, and average calories. Afterward, the resulting data will be arranged in the order of days of the week from Sunday to Saturday using the arrange() function. Finally, the summarized data will be stored in a new data frame named avg_activity_by_day, providing insights into the average activity levels for each day of the week."
   ]
  },
  {
   "cell_type": "code",
   "execution_count": 17,
   "id": "9c6053eb",
   "metadata": {
    "execution": {
     "iopub.execute_input": "2024-03-15T18:54:37.695763Z",
     "iopub.status.busy": "2024-03-15T18:54:37.693886Z",
     "iopub.status.idle": "2024-03-15T18:54:37.721308Z",
     "shell.execute_reply": "2024-03-15T18:54:37.719151Z"
    },
    "papermill": {
     "duration": 0.050527,
     "end_time": "2024-03-15T18:54:37.724363",
     "exception": false,
     "start_time": "2024-03-15T18:54:37.673836",
     "status": "completed"
    },
    "tags": []
   },
   "outputs": [],
   "source": [
    "# Analyzing average activity metrics for each day of the week\n",
    "avg_activity_by_day <- daily_activity %>%\n",
    "  group_by(day_of_week) %>%\n",
    "  summarise(\n",
    "    avg_steps = mean(total_steps, na.rm = TRUE),\n",
    "    avg_distance = mean(total_distance, na.rm = TRUE),\n",
    "    avg_minutes = mean(total_minutes, na.rm = TRUE),\n",
    "    avg_calories = mean(calories, na.rm = TRUE)\n",
    "  ) %>%\n",
    "  arrange(match(day_of_week, c(\"Sunday\", \"Monday\", \"Tuesday\", \"Wednesday\", \"Thursday\", \"Friday\", \"Saturday\")))\n"
   ]
  },
  {
   "cell_type": "markdown",
   "id": "e1fc541a",
   "metadata": {
    "papermill": {
     "duration": 0.017863,
     "end_time": "2024-03-15T18:54:37.759572",
     "exception": false,
     "start_time": "2024-03-15T18:54:37.741709",
     "status": "completed"
    },
    "tags": []
   },
   "source": [
    "In this section, the data will be grouped according to the day_of_week column using the group_by() function. Subsequently, the summarise() function will determine the average activity metrics for each day of the week, including the average number of steps taken (avg_steps), the average distance covered (avg_distance), the average minutes spent on physical activities (avg_minutes), and the average calories burned (avg_calories). Following summarization, the data will be arranged in the order of days of the week from Sunday to Saturday using the arrange() function. Finally, the summarized data will be stored in a new data frame named avg_activity_by_day, providing insights into the average activity metrics for each day of the week."
   ]
  },
  {
   "cell_type": "code",
   "execution_count": 18,
   "id": "7771f399",
   "metadata": {
    "execution": {
     "iopub.execute_input": "2024-03-15T18:54:37.799556Z",
     "iopub.status.busy": "2024-03-15T18:54:37.797704Z",
     "iopub.status.idle": "2024-03-15T18:54:37.821803Z",
     "shell.execute_reply": "2024-03-15T18:54:37.819738Z"
    },
    "papermill": {
     "duration": 0.047635,
     "end_time": "2024-03-15T18:54:37.824713",
     "exception": false,
     "start_time": "2024-03-15T18:54:37.777078",
     "status": "completed"
    },
    "tags": []
   },
   "outputs": [],
   "source": [
    "# Analyzing average activity metrics for each numerical day of the week\n",
    "avg_activity_by_numeric_day <- daily_activity %>%\n",
    "  group_by(n_day_of_week) %>%\n",
    "  summarise(\n",
    "    avg_steps = mean(total_steps, na.rm = TRUE),\n",
    "    avg_distance = mean(total_distance, na.rm = TRUE),\n",
    "    avg_minutes = mean(total_minutes, na.rm = TRUE),\n",
    "    avg_calories = mean(calories, na.rm = TRUE)\n",
    "  )"
   ]
  },
  {
   "cell_type": "markdown",
   "id": "d56ecf4e",
   "metadata": {
    "papermill": {
     "duration": 0.017225,
     "end_time": "2024-03-15T18:54:37.860345",
     "exception": false,
     "start_time": "2024-03-15T18:54:37.843120",
     "status": "completed"
    },
    "tags": []
   },
   "source": [
    "# Visualising the Dataset"
   ]
  },
  {
   "cell_type": "markdown",
   "id": "a32a70ef",
   "metadata": {
    "papermill": {
     "duration": 0.017207,
     "end_time": "2024-03-15T18:54:37.894822",
     "exception": false,
     "start_time": "2024-03-15T18:54:37.877615",
     "status": "completed"
    },
    "tags": []
   },
   "source": [
    "Now we will generate a bar plot showing activity trends by day of the week. It will use ggplot2 to create the plot, with total steps on the y-axis and the days of the week on the x-axis. The bars will represent the total steps taken each day, filled with a sky blue color."
   ]
  },
  {
   "cell_type": "code",
   "execution_count": 19,
   "id": "da5cde53",
   "metadata": {
    "execution": {
     "iopub.execute_input": "2024-03-15T18:54:37.935050Z",
     "iopub.status.busy": "2024-03-15T18:54:37.933284Z",
     "iopub.status.idle": "2024-03-15T18:54:38.582773Z",
     "shell.execute_reply": "2024-03-15T18:54:38.579218Z"
    },
    "papermill": {
     "duration": 0.675784,
     "end_time": "2024-03-15T18:54:38.588412",
     "exception": false,
     "start_time": "2024-03-15T18:54:37.912628",
     "status": "completed"
    },
    "tags": []
   },
   "outputs": [
    {
     "data": {
      "image/png": "[encoded data removed]"
     },
     "metadata": {
      "image/png": {
       "height": 420,
       "width": 420
      }
     },
     "output_type": "display_data"
    }
   ],
   "source": [
    "# Bar plot for activity trends by day of the week\n",
    "\n",
    "activity_by_day$day_of_week <- factor(activity_by_day$day_of_week, levels = c(\"Sunday\", \"Monday\", \"Tuesday\", \"Wednesday\", \"Thursday\", \"Friday\", \"Saturday\"))\n",
    "\n",
    "ggplot(activity_by_day, aes(x = day_of_week, y = total_steps)) +\n",
    "  geom_bar(stat = \"identity\", fill = \"skyblue\") +\n",
    "  labs(title = \"Activity Trends by Day of the Week\",\n",
    "       x = \"Day of the Week\",\n",
    "       y = \"Total Steps\") +\n",
    "  theme_minimal()"
   ]
  },
  {
   "cell_type": "markdown",
   "id": "ec4fa95b",
   "metadata": {
    "papermill": {
     "duration": 0.027905,
     "end_time": "2024-03-15T18:54:38.646429",
     "exception": false,
     "start_time": "2024-03-15T18:54:38.618524",
     "status": "completed"
    },
    "tags": []
   },
   "source": [
    "For the second graph we will still use a bar plot illustrating activity trends by numerical day of the week. With total distance on the y-axis and numerical day of the week on the x-axis. The bars will represent the total distance covered each day, filled with a light green color."
   ]
  },
  {
   "cell_type": "code",
   "execution_count": 20,
   "id": "217a45d1",
   "metadata": {
    "execution": {
     "iopub.execute_input": "2024-03-15T18:54:38.689033Z",
     "iopub.status.busy": "2024-03-15T18:54:38.686817Z",
     "iopub.status.idle": "2024-03-15T18:54:39.074843Z",
     "shell.execute_reply": "2024-03-15T18:54:39.072669Z"
    },
    "papermill": {
     "duration": 0.412133,
     "end_time": "2024-03-15T18:54:39.078043",
     "exception": false,
     "start_time": "2024-03-15T18:54:38.665910",
     "status": "completed"
    },
    "tags": []
   },
   "outputs": [
    {
     "data": {
      "image/png": "[encoded data removed]"
     },
     "metadata": {
      "image/png": {
       "height": 420,
       "width": 420
      }
     },
     "output_type": "display_data"
    }
   ],
   "source": [
    "# Bar plot for activity trends by numerical day of the week\n",
    "\n",
    "day_labels <- c(\"Sunday\", \"Monday\", \"Tuesday\", \"Wednesday\", \"Thursday\", \"Friday\", \"Saturday\")\n",
    "\n",
    "ggplot(activity_by_numeric_day, aes(x = factor(n_day_of_week, levels = 1:7), y = total_distance)) +\n",
    "  geom_bar(stat = \"identity\", fill = \"lightgreen\") +\n",
    "  labs(title = \"Activity Trends by Numerical Day of the Week\",\n",
    "       x = \"Numerical Day of the Week\",\n",
    "       y = \"Total Distance\") +\n",
    "  scale_x_discrete(labels = day_labels) +  # Specify x-axis labels\n",
    "  theme_minimal()"
   ]
  },
  {
   "cell_type": "markdown",
   "id": "9ed86ab1",
   "metadata": {
    "papermill": {
     "duration": 0.019015,
     "end_time": "2024-03-15T18:54:39.116102",
     "exception": false,
     "start_time": "2024-03-15T18:54:39.097087",
     "status": "completed"
    },
    "tags": []
   },
   "source": [
    "This one istead will use a line plot to show the average activity metrics by day of the week. With the day of the week on the x-axis and average values for steps, distance, minutes, and calories on the y-axis. Each metric is represented by a different colored line."
   ]
  },
  {
   "cell_type": "code",
   "execution_count": 21,
   "id": "154c1c38",
   "metadata": {
    "execution": {
     "iopub.execute_input": "2024-03-15T18:54:39.158737Z",
     "iopub.status.busy": "2024-03-15T18:54:39.156692Z",
     "iopub.status.idle": "2024-03-15T18:54:39.748377Z",
     "shell.execute_reply": "2024-03-15T18:54:39.746203Z"
    },
    "papermill": {
     "duration": 0.616596,
     "end_time": "2024-03-15T18:54:39.751784",
     "exception": false,
     "start_time": "2024-03-15T18:54:39.135188",
     "status": "completed"
    },
    "tags": []
   },
   "outputs": [
    {
     "data": {
      "image/png": "[encoded data removed]"
     },
     "metadata": {
      "image/png": {
       "height": 420,
       "width": 420
      }
     },
     "output_type": "display_data"
    }
   ],
   "source": [
    "# Line plot for average activity metrics by day of the week\n",
    "\n",
    "day_labels <- c(\"Sunday\", \"Monday\", \"Tuesday\", \"Wednesday\", \"Thursday\", \"Friday\", \"Saturday\")\n",
    "\n",
    "ggplot(avg_activity_by_day, aes(x = factor(day_of_week, levels = day_labels))) +\n",
    "  geom_line(aes(y = avg_steps, color = \"Steps\", group = 1)) +\n",
    "  geom_line(aes(y = avg_distance, color = \"Distance\", group = 1)) +\n",
    "  geom_line(aes(y = avg_minutes, color = \"Minutes\", group = 1)) +\n",
    "  geom_line(aes(y = avg_calories, color = \"Calories\", group = 1)) +\n",
    "  labs(title = \"Average Activity Metrics for Each Day of the Week\",\n",
    "       x = \"Day of the Week\",\n",
    "       y = \"Average Value\",\n",
    "       color = \"Metric\") +\n",
    "  scale_color_manual(values = c(\"Steps\" = \"blue\", \"Distance\" = \"green\", \"Minutes\" = \"orange\", \"Calories\" = \"red\")) +\n",
    "  theme_minimal()"
   ]
  },
  {
   "cell_type": "markdown",
   "id": "325b0d7f",
   "metadata": {
    "papermill": {
     "duration": 0.020264,
     "end_time": "2024-03-15T18:54:39.792100",
     "exception": false,
     "start_time": "2024-03-15T18:54:39.771836",
     "status": "completed"
    },
    "tags": []
   },
   "source": [
    "Finally, we will generate a line plot illustrating average activity metrics by numerical day of the week. With the numerical day of the week on the x-axis and average values for steps, distance, minutes, and calories on the y-axis. Each metric is represented by a different colored line. "
   ]
  },
  {
   "cell_type": "code",
   "execution_count": 22,
   "id": "12550733",
   "metadata": {
    "execution": {
     "iopub.execute_input": "2024-03-15T18:54:39.836235Z",
     "iopub.status.busy": "2024-03-15T18:54:39.834318Z",
     "iopub.status.idle": "2024-03-15T18:54:40.308066Z",
     "shell.execute_reply": "2024-03-15T18:54:40.305901Z"
    },
    "papermill": {
     "duration": 0.499085,
     "end_time": "2024-03-15T18:54:40.311044",
     "exception": false,
     "start_time": "2024-03-15T18:54:39.811959",
     "status": "completed"
    },
    "tags": []
   },
   "outputs": [
    {
     "data": {
      "image/png": "[encoded data removed]"
     },
     "metadata": {
      "image/png": {
       "height": 420,
       "width": 420
      }
     },
     "output_type": "display_data"
    }
   ],
   "source": [
    "# Line plot for average activity metrics by numerical day of the week\n",
    "ggplot(avg_activity_by_numeric_day, aes(x = n_day_of_week)) +\n",
    "  geom_line(aes(y = avg_steps, color = \"Steps\")) +\n",
    "  geom_line(aes(y = avg_distance, color = \"Distance\")) +\n",
    "  geom_line(aes(y = avg_minutes, color = \"Minutes\")) +\n",
    "  geom_line(aes(y = avg_calories, color = \"Calories\")) +\n",
    "  labs(title = \"Average Activity Metrics for Each Numerical Day of the Week\",\n",
    "       x = \"Numerical Day of the Week\",\n",
    "       y = \"Average Value\",\n",
    "       color = \"Metric\") +\n",
    "  scale_color_manual(values = c(\"Steps\" = \"blue\", \"Distance\" = \"green\", \"Minutes\" = \"orange\", \"Calories\" = \"red\")) +\n",
    "  theme_minimal()"
   ]
  },
  {
   "cell_type": "markdown",
   "id": "8709fac8",
   "metadata": {
    "papermill": {
     "duration": 0.021175,
     "end_time": "2024-03-15T18:54:40.353697",
     "exception": false,
     "start_time": "2024-03-15T18:54:40.332522",
     "status": "completed"
    },
    "tags": []
   },
   "source": [
    "# Sharing Insight"
   ]
  },
  {
   "cell_type": "markdown",
   "id": "5a5e929f",
   "metadata": {
    "papermill": {
     "duration": 0.022727,
     "end_time": "2024-03-15T18:54:40.397488",
     "exception": false,
     "start_time": "2024-03-15T18:54:40.374761",
     "status": "completed"
    },
    "tags": []
   },
   "source": [
    "In essence, the analysis highlights the significance of understanding patterns in physical activity for the design and enhancement of wearable fitness technologies. Leveraging these insights allows companies to effectively support users in achieving their health and wellness objectives while promoting sustained engagement with their products and services.\n",
    "\n",
    "The observed differences in activity levels between weekdays and weekends are notable. On average, weekdays, particularly Wednesday and Thursday, exhibit higher total steps and distances covered compared to Saturdays and Sundays. This discrepancy suggests that individuals tend to engage in more physical activity during the workweek, potentially influenced by structured routines and commitments.\n",
    "\n",
    "Furthermore, a consistent trend emerges when examining activity metrics. Mid-week days consistently demonstrate higher average values across steps, distance, minutes, and calories burned, indicating a probable correlation between weekday routines and increased physical activity. Conversely, weekends display lower average values across these metrics, implying a behavioral shift during leisure days.\n",
    "\n",
    "These findings hold significant implications, particularly for companies operating in the wearable technology and fitness tracking industry, such as Bellabeat. Understanding these variations in user behavior enables companies to tailor marketing strategies and product features to better align with user preferences and routines. For instance, developing targeted features or incentives to encourage weekend activity or address barriers to engagement during leisure days could enhance user satisfaction and product adoption.\n",
    "\n",
    "In summary, the insights derived from this analysis provide valuable guidance for companies like Bellabeat, enabling them to optimize their offerings to meet the diverse needs and behaviors of their user base, ultimately fostering greater engagement and loyalty."
   ]
  }
 ],
 "metadata": {
  "kaggle": {
   "accelerator": "none",
   "dataSources": [
    {
     "datasetId": 1041311,
     "sourceId": 7746251,
     "sourceType": "datasetVersion"
    }
   ],
   "dockerImageVersionId": 30618,
   "isGpuEnabled": false,
   "isInternetEnabled": false,
   "language": "r",
   "sourceType": "notebook"
  },
  "kernelspec": {
   "display_name": "R",
   "language": "R",
   "name": "ir"
  },
  "language_info": {
   "codemirror_mode": "r",
   "file_extension": ".r",
   "mimetype": "text/x-r-source",
   "name": "R",
   "pygments_lexer": "r",
   "version": "4.0.5"
  },
  "papermill": {
   "default_parameters": {},
   "duration": 10.733587,
   "end_time": "2024-03-15T18:54:40.542931",
   "environment_variables": {},
   "exception": null,
   "input_path": "__notebook__.ipynb",
   "output_path": "__notebook__.ipynb",
   "parameters": {},
   "start_time": "2024-03-15T18:54:29.809344",
   "version": "2.5.0"
  }
 },
 "nbformat": 4,
 "nbformat_minor": 5
}
